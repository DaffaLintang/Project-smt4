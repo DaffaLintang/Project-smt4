{
 "cells": [
  {
   "cell_type": "code",
   "execution_count": 2,
   "id": "eacda4cc-40b5-49ff-87ca-afa5e01e3f47",
   "metadata": {},
   "outputs": [
    {
     "name": "stdout",
     "output_type": "stream",
     "text": [
      "✅ Berhasil terhubung ke MongoDB.\n"
     ]
    }
   ],
   "source": [
    "import pandas as pd\n",
    "from pymongo import MongoClient\n",
    "from sklearn.model_selection import train_test_split\n",
    "from sklearn.preprocessing import OneHotEncoder, StandardScaler, LabelEncoder\n",
    "from sklearn.ensemble import RandomForestClassifier\n",
    "from sklearn.metrics import accuracy_score, classification_report\n",
    "import joblib\n",
    "\n",
    "# Koneksi ke MongoDB\n",
    "try:\n",
    "    client = MongoClient(\"mongodb://localhost:27017/\", serverSelectionTimeoutMS=3000)\n",
    "    client.server_info()  # Memicu exception jika tidak bisa konek\n",
    "    print(\"✅ Berhasil terhubung ke MongoDB.\")\n",
    "except Exception as e:\n",
    "    print(\"❌ Gagal terhubung ke MongoDB:\", e)\n",
    "\n",
    "\n",
    "db = client[\"workout_db\"]  # Ganti sesuai nama database\n",
    "collection = db[\"obesity\"]  # Ganti sesuai nama koleksi (tabel MongoDB)"
   ]
  },
  {
   "cell_type": "code",
   "execution_count": 4,
   "id": "37ea4b8a-6abd-459d-8568-53c07f9829ee",
   "metadata": {},
   "outputs": [
    {
     "name": "stdout",
     "output_type": "stream",
     "text": [
      "✅ Data berhasil diambil dari MongoDB. Contoh data:\n",
      "                        _id  Age  Gender      Height     Weight        BMI  \\\n",
      "0  680a16870893fe10f40820d4   56    Male  173.575262  71.982051  23.891783   \n",
      "1  680a16870893fe10f40820d5   69    Male  164.127306  89.959256  33.395209   \n",
      "2  680a16870893fe10f40820d6   46  Female  168.072202  72.930629  25.817737   \n",
      "3  680a16870893fe10f40820d7   32    Male  168.459633  84.886912  29.912247   \n",
      "4  680a16870893fe10f40820d8   60    Male  183.568568  69.038945  20.487903   \n",
      "\n",
      "   PhysicalActivityLevel ObesityCategory  \n",
      "0                      4   Normal weight  \n",
      "1                      2           Obese  \n",
      "2                      4      Overweight  \n",
      "3                      3      Overweight  \n",
      "4                      3   Normal weight  \n",
      "Jumlah baris: 1000, Jumlah kolom: 8\n"
     ]
    }
   ],
   "source": [
    "data = pd.DataFrame(list(collection.find()))\n",
    "\n",
    "# Pastikan data tidak kosong\n",
    "if data.empty:\n",
    "    raise ValueError(\"Data dari MongoDB kosong. Pastikan koleksi 'obesity' terisi!\")\n",
    "else:\n",
    "    print(\"✅ Data berhasil diambil dari MongoDB. Contoh data:\")\n",
    "    print(data.head())\n",
    "    print(f\"Jumlah baris: {data.shape[0]}, Jumlah kolom: {data.shape[1]}\")"
   ]
  },
  {
   "cell_type": "code",
   "execution_count": 5,
   "id": "96698830-7fe8-401a-984d-64f7f9cc6a6c",
   "metadata": {},
   "outputs": [
    {
     "name": "stdout",
     "output_type": "stream",
     "text": [
      "✅ Data setelah proses cleansing:\n",
      "   Age  Gender      Height     Weight        BMI ObesityCategory\n",
      "0   56    Male  173.575262  71.982051  23.891783   Normal weight\n",
      "1   69    Male  164.127306  89.959256  33.395209           Obese\n",
      "2   46  Female  168.072202  72.930629  25.817737      Overweight\n",
      "3   32    Male  168.459633  84.886912  29.912247      Overweight\n",
      "4   60    Male  183.568568  69.038945  20.487903   Normal weight\n",
      "Jumlah baris: 1000, Jumlah kolom: 6\n"
     ]
    }
   ],
   "source": [
    "# Cleansing data: hapus _id dan kolom tak relevan, serta drop NaN pada ObesityCategory\n",
    "data = data.drop(columns=[col for col in ['_id', 'PhysicalActivityLevel'] if col in data.columns])\n",
    "data = data.dropna(subset=['ObesityCategory']) if 'ObesityCategory' in data.columns else data\n",
    "\n",
    "# Tampilkan hasil setelah cleansing\n",
    "print(\"✅ Data setelah proses cleansing:\")\n",
    "print(data.head())  # Tampilkan 5 baris pertama\n",
    "print(f\"Jumlah baris: {data.shape[0]}, Jumlah kolom: {data.shape[1]}\")"
   ]
  },
  {
   "cell_type": "code",
   "execution_count": 9,
   "id": "d76185ed-3105-4e1b-8a68-ab39b47bc559",
   "metadata": {},
   "outputs": [
    {
     "name": "stdout",
     "output_type": "stream",
     "text": [
      "0      0\n",
      "1      1\n",
      "2      2\n",
      "3      2\n",
      "4      0\n",
      "      ..\n",
      "995    2\n",
      "996    1\n",
      "997    1\n",
      "998    0\n",
      "999    0\n",
      "Name: ObesityCategory, Length: 1000, dtype: int64\n"
     ]
    }
   ],
   "source": [
    "# Encode ObesityCategory\n",
    "le = LabelEncoder()\n",
    "data['ObesityCategory'] = le.fit_transform(data['ObesityCategory'])\n",
    "joblib.dump(le, 'label_encoder_ObesityCategory.pkl')\n",
    "print(data['ObesityCategory'])"
   ]
  },
  {
   "cell_type": "code",
   "execution_count": 11,
   "id": "a65be8d8-f57b-40ea-92dd-e2119c767b71",
   "metadata": {},
   "outputs": [],
   "source": [
    "# Pisahkan fitur dan label\n",
    "X = data.drop(columns=['ObesityCategory'])\n",
    "y = data['ObesityCategory']"
   ]
  },
  {
   "cell_type": "code",
   "execution_count": 12,
   "id": "1b0c8892-fe11-49df-86e7-89dc5b009981",
   "metadata": {},
   "outputs": [
    {
     "name": "stdout",
     "output_type": "stream",
     "text": [
      "[[0. 1.]\n",
      " [0. 1.]\n",
      " [1. 0.]\n",
      " ...\n",
      " [1. 0.]\n",
      " [0. 1.]\n",
      " [1. 0.]]\n"
     ]
    }
   ],
   "source": [
    "# Fitur kategorikal dan numerik\n",
    "categorical_features = ['Gender']\n",
    "numerical_features = ['Age', 'Height', 'Weight', 'BMI']\n",
    "\n",
    "# One-hot encoding untuk Gender\n",
    "encoder = OneHotEncoder(handle_unknown='ignore')\n",
    "categorical_encoded = encoder.fit_transform(X[categorical_features]).toarray()\n",
    "joblib.dump(encoder, 'encoder.pkl')\n",
    "print(categorical_encoded)"
   ]
  },
  {
   "cell_type": "code",
   "execution_count": 15,
   "id": "5b78eac0-b0bc-4666-bf40-422209bbb3ff",
   "metadata": {},
   "outputs": [
    {
     "name": "stdout",
     "output_type": "stream",
     "text": [
      "✅ Fitur akhir setelah penggabungan kategorikal dan numerik:\n",
      "   Gender_Female  Gender_Male  Age      Height     Weight        BMI\n",
      "0            0.0          1.0   56  173.575262  71.982051  23.891783\n",
      "1            0.0          1.0   69  164.127306  89.959256  33.395209\n",
      "2            1.0          0.0   46  168.072202  72.930629  25.817737\n",
      "3            0.0          1.0   32  168.459633  84.886912  29.912247\n",
      "4            0.0          1.0   60  183.568568  69.038945  20.487903\n",
      "Jumlah baris: 1000, Jumlah kolom: 6\n"
     ]
    }
   ],
   "source": [
    "# Gabungkan kembali dengan fitur numerik\n",
    "X_final = pd.concat([\n",
    "    pd.DataFrame(categorical_encoded, columns=encoder.get_feature_names_out()),\n",
    "    X[numerical_features].reset_index(drop=True)\n",
    "], axis=1)\n",
    "\n",
    "# Tampilkan hasil gabungan fitur\n",
    "print(\"✅ Fitur akhir setelah penggabungan kategorikal dan numerik:\")\n",
    "print(X_final.head())  # Tampilkan 5 baris pertama\n",
    "print(f\"Jumlah baris: {X_final.shape[0]}, Jumlah kolom: {X_final.shape[1]}\")"
   ]
  },
  {
   "cell_type": "code",
   "execution_count": 16,
   "id": "76201fda-543b-4b22-95a0-92b84dd9ba50",
   "metadata": {},
   "outputs": [
    {
     "name": "stdout",
     "output_type": "stream",
     "text": [
      "[[-0.95501094  0.95501094  0.33929464  0.34186404  0.05007594 -0.16096979]\n",
      " [-0.95501094  0.95501094  1.05732009 -0.57498474  1.20973904  1.37411521]\n",
      " [ 1.04710843 -1.04710843 -0.21303263 -0.19216404  0.11126628  0.15012898]\n",
      " ...\n",
      " [ 1.04710843 -1.04710843 -0.04733445 -1.30826818  0.49016063  1.17233664]\n",
      " [-0.95501094  0.95501094  0.78115646 -0.56868513 -0.85328182 -0.54635003]\n",
      " [ 1.04710843 -1.04710843  0.89162191  0.82337373  0.24231534 -0.22148122]]\n"
     ]
    }
   ],
   "source": [
    "# Scaling fitur numerik\n",
    "scaler = StandardScaler()\n",
    "X_scaled = scaler.fit_transform(X_final)\n",
    "joblib.dump(scaler, 'scaler.pkl')\n",
    "print(X_scaled)"
   ]
  },
  {
   "cell_type": "code",
   "execution_count": 17,
   "id": "f7a20024-152d-497e-a706-6e972a54adef",
   "metadata": {},
   "outputs": [
    {
     "data": {
      "text/plain": [
       "['bmi_classification_model_rf.pkl']"
      ]
     },
     "execution_count": 17,
     "metadata": {},
     "output_type": "execute_result"
    }
   ],
   "source": [
    "# Split data\n",
    "X_train, X_test, y_train, y_test = train_test_split(X_scaled, y, test_size=0.2, random_state=42)\n",
    "\n",
    "# Training model\n",
    "model = RandomForestClassifier(random_state=42)\n",
    "model.fit(X_train, y_train)\n",
    "joblib.dump(model, 'bmi_classification_model_rf.pkl')\n"
   ]
  },
  {
   "cell_type": "code",
   "execution_count": 13,
   "id": "2d3152fe-bee9-42d6-873c-e789bddf563e",
   "metadata": {},
   "outputs": [
    {
     "name": "stdout",
     "output_type": "stream",
     "text": [
      "Akurasi: 99.50%\n",
      "\n",
      "Laporan Klasifikasi:\n",
      "               precision    recall  f1-score   support\n",
      "\n",
      "Normal weight       1.00      1.00      1.00        72\n",
      "        Obese       1.00      0.97      0.98        32\n",
      "   Overweight       0.98      1.00      0.99        65\n",
      "  Underweight       1.00      1.00      1.00        31\n",
      "\n",
      "     accuracy                           0.99       200\n",
      "    macro avg       1.00      0.99      0.99       200\n",
      " weighted avg       1.00      0.99      0.99       200\n",
      "\n"
     ]
    }
   ],
   "source": [
    "# Evaluasi\n",
    "predictions = model.predict(X_test)\n",
    "accuracy = accuracy_score(y_test, predictions)\n",
    "report = classification_report(y_test, predictions)\n",
    "\n",
    "print(f\"Akurasi: {accuracy * 100:.2f}%\")\n",
    "print(\"\\nLaporan Klasifikasi:\")\n",
    "print(report)"
   ]
  },
  {
   "cell_type": "code",
   "execution_count": null,
   "id": "a929ea06-d796-4b9b-ac0c-fa97041ba3f9",
   "metadata": {},
   "outputs": [],
   "source": []
  }
 ],
 "metadata": {
  "kernelspec": {
   "display_name": "base",
   "language": "python",
   "name": "python3"
  },
  "language_info": {
   "codemirror_mode": {
    "name": "ipython",
    "version": 3
   },
   "file_extension": ".py",
   "mimetype": "text/x-python",
   "name": "python",
   "nbconvert_exporter": "python",
   "pygments_lexer": "ipython3",
   "version": "3.12.5"
  }
 },
 "nbformat": 4,
 "nbformat_minor": 5
}
